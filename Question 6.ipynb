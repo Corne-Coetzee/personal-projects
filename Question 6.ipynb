{
 "cells": [
  {
   "cell_type": "markdown",
   "id": "e8380295",
   "metadata": {},
   "source": [
    "# Question 6 \n",
    "\n",
    "**Given an array of integers nums and an integer k, determine whether there are two distinct indices i and j in the array where nums[i] = nums[j] and the absolute difference between i and j is less than or equal to k.**\n",
    "\n",
    "**Example: For nums = [0,1,2,3,5,2] and k=3, the output should be containsCloseNums(nums, k) = true.**\n",
    "\n",
    "**There are two 2s in nums, and the absolute difference between their positions is exactly 3.**\n",
    "\n",
    "**For nums = [0,1,2,3,5,2] and k=2, the output should be containsCloseNums(nums, k) = false.**\n",
    "\n",
    "**The absolute difference between the positions of the two 2s is 3, which is more than k.**\n",
    "\n",
    "**Please start your timer before you attempt this challenge.**"
   ]
  },
  {
   "cell_type": "code",
   "execution_count": 42,
   "id": "276f7303",
   "metadata": {},
   "outputs": [
    {
     "name": "stdout",
     "output_type": "stream",
     "text": [
      "True\n"
     ]
    }
   ],
   "source": [
    "def containsCloseNums(nums, k):\n",
    "    duplicates = []\n",
    "    for each_number in nums: \n",
    "        if nums.count(each_number)>1 and each_number not in duplicates:\n",
    "            duplicates.append(each_number) #used this for loop & if statements to find all duplicates\n",
    "    for number in duplicates:\n",
    "        duplicate_number = number #used this for loop to remove the duplicates from a list\n",
    "\n",
    "    n = (nums.index(duplicate_number)) #to save the index of the first number of the duplicate\n",
    "    del nums[n] #removed that number to be able to find the other number of the duplicate\n",
    "    s = (nums.index(duplicate_number)+1) #to find the next number of the duplicate, +1 because the index is 1 less because we delete the previous duplicate\n",
    "    if (s-n) == k: #if the indexes of the duplicate are equal to 'k' (input) print true otherwise print false\n",
    "        print(True)\n",
    "    else: \n",
    "        print(False)\n",
    "        \n",
    "containsCloseNums([0,1,2,3,5,2], 3)"
   ]
  },
  {
   "cell_type": "markdown",
   "id": "84320dc8",
   "metadata": {},
   "source": [
    "**Time: 19:24**"
   ]
  }
 ],
 "metadata": {
  "kernelspec": {
   "display_name": "Python 3",
   "language": "python",
   "name": "python3"
  },
  "language_info": {
   "codemirror_mode": {
    "name": "ipython",
    "version": 3
   },
   "file_extension": ".py",
   "mimetype": "text/x-python",
   "name": "python",
   "nbconvert_exporter": "python",
   "pygments_lexer": "ipython3",
   "version": "3.8.8"
  }
 },
 "nbformat": 4,
 "nbformat_minor": 5
}
