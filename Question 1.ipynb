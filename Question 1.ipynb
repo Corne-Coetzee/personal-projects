{
 "cells": [
  {
   "cell_type": "markdown",
   "id": "b6cb5aed",
   "metadata": {},
   "source": [
    "**QUESTION 1**\n",
    "\n",
    "*Write a function that computes the list of the first 100 Fibonacci numbers.*\n",
    "\n",
    "*By definition, the first two numbers in the Fibonacci sequence are 0 and 1, and each subsequent number is the sum of the previous two.*\n",
    "\n",
    "*As an example, the first 10 Fibonacci numbers are: 0, 1, 1, 2, 3, 5, 8, 13, 21, and 34.*\n",
    "\n",
    "*Please start your timer before you attempt this challenge.*"
   ]
  },
  {
   "cell_type": "code",
   "execution_count": null,
   "id": "26420017",
   "metadata": {},
   "outputs": [],
   "source": [
    "def fibonacci_sequence(required_numbers):\n",
    "    first_number = 0 \n",
    "    second_number = 1\n",
    "    #These two numbers are fixed and are not dependent on any previous sequence\n",
    "    number = 0\n",
    "    while required_numbers > number:\n",
    "        # while the functions required numbers is less than the current printed number\n",
    "        print(first_number) \n",
    "        # step 1 of the contionous while loop:'0' fixed number and will always need to be printed\n",
    "        next_number = first_number + second_number\n",
    "        # step 2 the next number will always equal the previous 2 numbers\n",
    "        first_number = second_number\n",
    "        # step 3 since new number will need to be printed the new second_number will equal the first_number for us to execute the next line\n",
    "        second_number = next_number\n",
    "        # step 4 since it is contionous looped the next_number should be the second number\n",
    "        number += 1\n",
    "        #this is put here to make sure the amount of numbers counted is not more than a 100 or it will be contionously counted forever (used in while loop)\n",
    "\n",
    "print(fibonacci_sequence(100))\n",
    "#First 100 Fibonacci numbers."
   ]
  },
  {
   "cell_type": "markdown",
   "id": "2e221d3e",
   "metadata": {},
   "source": [
    "*Time spent: **20:56** minutes*"
   ]
  },
  {
   "cell_type": "markdown",
   "id": "9a58e5b5",
   "metadata": {},
   "source": [
    "I was struggling to run my code and had to run it else where than Jupyter Notebook "
   ]
  }
 ],
 "metadata": {
  "kernelspec": {
   "display_name": "Python 3",
   "language": "python",
   "name": "python3"
  },
  "language_info": {
   "codemirror_mode": {
    "name": "ipython",
    "version": 3
   },
   "file_extension": ".py",
   "mimetype": "text/x-python",
   "name": "python",
   "nbconvert_exporter": "python",
   "pygments_lexer": "ipython3",
   "version": "3.8.8"
  }
 },
 "nbformat": 4,
 "nbformat_minor": 5
}
