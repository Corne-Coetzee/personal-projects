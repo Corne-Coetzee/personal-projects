{
 "cells": [
  {
   "cell_type": "markdown",
   "id": "e96d3fd9",
   "metadata": {},
   "source": [
    "**Question 5**\n",
    "\n",
    "Given a sorted array, remove the duplicates such that each element appear only once and return the new length.\n",
    "\n",
    "For example, for the array [0, 0, 1, 1, 1, 2, 2, 3, 3, 4, 5, 5], your function should return length = 6, with the first five elements of being modified to 0, 1, 2, 3, 4, and 7, respectively.\n",
    "\n",
    "Please start your timer before you attempt this challenge."
   ]
  },
  {
   "cell_type": "code",
   "execution_count": 7,
   "id": "bcb510d3",
   "metadata": {},
   "outputs": [
    {
     "data": {
      "text/plain": [
       "6"
      ]
     },
     "execution_count": 7,
     "metadata": {},
     "output_type": "execute_result"
    }
   ],
   "source": [
    "def number_counter(array):\n",
    "    new_array = [ ] #to be appended\n",
    "    for numbers in array: #look at numbers individually in loop \n",
    "        if numbers not in new_array: #if those numbers are not in the newly created array append them \n",
    "            new_array.append(numbers)\n",
    "\n",
    "    return(len(new_array)) #len function will count the numbers in the new array\n",
    "\n",
    "number_counter([0, 0, 1, 1, 1, 2, 2, 3, 3, 4, 5, 5])"
   ]
  },
  {
   "cell_type": "markdown",
   "id": "a552be03",
   "metadata": {},
   "source": [
    "**Time 05:03**"
   ]
  }
 ],
 "metadata": {
  "kernelspec": {
   "display_name": "Python 3",
   "language": "python",
   "name": "python3"
  },
  "language_info": {
   "codemirror_mode": {
    "name": "ipython",
    "version": 3
   },
   "file_extension": ".py",
   "mimetype": "text/x-python",
   "name": "python",
   "nbconvert_exporter": "python",
   "pygments_lexer": "ipython3",
   "version": "3.8.8"
  }
 },
 "nbformat": 4,
 "nbformat_minor": 5
}
