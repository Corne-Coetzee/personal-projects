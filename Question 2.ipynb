{
 "cells": [
  {
   "cell_type": "markdown",
   "id": "b1b516fa",
   "metadata": {},
   "source": [
    "**Question 2**\n",
    "\n",
    "Given an array of integers, return how many elements of the array contain an even number of digits, and how many contain an uneven number of digits.\n",
    "\n",
    "For example, for the array [555, 901, 482, 1771], the answer would be:\n",
    "\n",
    "* Even number: 1 element (482)\n",
    "* Odd numbers: 3 elements (555, 901, 1771)\n",
    "\n",
    "Please start your timer before you attempt this challenge."
   ]
  },
  {
   "cell_type": "code",
   "execution_count": 11,
   "id": "aa10f82c",
   "metadata": {},
   "outputs": [
    {
     "name": "stdout",
     "output_type": "stream",
     "text": [
      "* Even number: 1\n",
      "* Odd number: 3\n"
     ]
    }
   ],
   "source": [
    "integers = [555, 901, 482, 1771]\n",
    "\n",
    "total_odd_and_even = len(integers)\n",
    "#count total numbers in array, so that you only have to calulcate one odd or even and subtract that number from the total to calculate the other\n",
    "\n",
    "number_even = 0\n",
    "#define this so that it can be added \n",
    "for number in integers:\n",
    "    #use this loop to check all number in array\n",
    "    if number % 2 == 0:\n",
    "        # % 2 is used to see which numbers are left after the ',' (decimal) if that number equals 0 it is an even number \n",
    "        number_even += 1\n",
    "        # add all the numbers that fulfill this condition to number_even variable\n",
    "        \n",
    "number_odd = total_odd_and_even - number_even\n",
    "#all other numbers that are not odd must be even. so therefore subtract from total\n",
    "\n",
    "print(\"* Even number: \" + str(number_even))\n",
    "print(\"* Odd number: \" + str(number_odd))"
   ]
  },
  {
   "cell_type": "markdown",
   "id": "7d5324b0",
   "metadata": {},
   "source": [
    "**Time: 09:13**"
   ]
  }
 ],
 "metadata": {
  "kernelspec": {
   "display_name": "Python 3",
   "language": "python",
   "name": "python3"
  },
  "language_info": {
   "codemirror_mode": {
    "name": "ipython",
    "version": 3
   },
   "file_extension": ".py",
   "mimetype": "text/x-python",
   "name": "python",
   "nbconvert_exporter": "python",
   "pygments_lexer": "ipython3",
   "version": "3.8.8"
  }
 },
 "nbformat": 4,
 "nbformat_minor": 5
}
