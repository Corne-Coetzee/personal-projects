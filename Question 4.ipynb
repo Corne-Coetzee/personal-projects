{
 "cells": [
  {
   "cell_type": "markdown",
   "id": "e34ac96a",
   "metadata": {},
   "source": [
    "**Question 4**\n",
    "\n",
    "*Write a function that converts a Roman numeral into an integer value.*\n",
    "\n",
    "*Roman numerals are represented by seven different symbols: I, V, X, L, C, D and M.*\n",
    "\n",
    "*Their values are: I: 1 V: 5 X: 10 L: 50 C: 100 D: 500 M: 1000*\n",
    "\n",
    "*Roman numerals are usually written largest to smallest from left to right.*\n",
    "\n",
    "*For example:*\n",
    "\n",
    "*3 is written as III\n",
    "28 is written as XXVIII\n",
    "However, there are some exceptions, to Roman numeral conversion: For example, the numeral for 4 is not IIII. Instead, the number four is written as IV (as the 1 is before the 5, it is subtracted making 1. The same principle applies to the number 9, which is written as IX.*\n",
    "\n",
    "*There are six instances where subtraction is used:*\n",
    "\n",
    "* I can be placed before V (5) and X (10) to make 4 and 9.\n",
    "* X can be placed before L (50) and C (100) to make 40 and 90.\n",
    "* C can be placed before D (500) and M (1000) to make 400 and 900.\n",
    "\n",
    "*Thus, given a roman numeral, convert it to an integer. You can assume that input is guaranteed to be within the range from 1 to 3999.*\n",
    "\n",
    "*Please start your timer before you attempt this challenge.*"
   ]
  },
  {
   "cell_type": "code",
   "execution_count": 271,
   "id": "dedc47db",
   "metadata": {},
   "outputs": [
    {
     "data": {
      "text/plain": [
       "1444"
      ]
     },
     "execution_count": 271,
     "metadata": {},
     "output_type": "execute_result"
    }
   ],
   "source": [
    "values = {\"I\": 1,\"V\": 5,\"X\": 10,\"L\": 50,\"C\": 100,\"D\": 500,\"M\": 1000,}\n",
    "\n",
    "def convert_to_int(roman):\n",
    "    \n",
    "    if 'IV' in roman:\n",
    "        roman = roman.replace('IV', 'IIII')\n",
    "\n",
    "    if 'IX' in roman:\n",
    "        roman = roman.replace('IX', 'VIIII')\n",
    "\n",
    "    if 'XL' in roman:\n",
    "        roman = roman.replace('XL', 'XXXX')\n",
    "\n",
    "    if 'XC' in roman:\n",
    "        roman = roman.replace('XC', 'LXXXX')\n",
    "\n",
    "    if 'CD' in roman:\n",
    "        roman = roman.replace('CD', 'CCCC')\n",
    "\n",
    "    if 'CM' in roman:\n",
    "        roman = roman.replace('CM', 'DCCCC')\n",
    "\n",
    "    y = []\n",
    "    for x in roman:\n",
    "        y.append(values[x])\n",
    "        z = sum(y)\n",
    "\n",
    "    return(z)\n",
    "\n",
    "convert_to_int('MCDXLIV')"
   ]
  },
  {
   "cell_type": "markdown",
   "id": "560b24a4",
   "metadata": {},
   "source": [
    "**TIME: 1:25:12**"
   ]
  },
  {
   "cell_type": "code",
   "execution_count": null,
   "id": "abaf3080",
   "metadata": {},
   "outputs": [],
   "source": []
  }
 ],
 "metadata": {
  "kernelspec": {
   "display_name": "Python 3",
   "language": "python",
   "name": "python3"
  },
  "language_info": {
   "codemirror_mode": {
    "name": "ipython",
    "version": 3
   },
   "file_extension": ".py",
   "mimetype": "text/x-python",
   "name": "python",
   "nbconvert_exporter": "python",
   "pygments_lexer": "ipython3",
   "version": "3.8.8"
  }
 },
 "nbformat": 4,
 "nbformat_minor": 5
}
