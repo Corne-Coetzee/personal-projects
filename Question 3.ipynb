{
 "cells": [
  {
   "cell_type": "markdown",
   "id": "5d446add",
   "metadata": {},
   "source": [
    "**Question 3** \n",
    "\n",
    "*Given a collection of intervals, merge all overlapping intervals.*\n",
    "\n",
    "*For example: For the input intervals of [[1,3], [2,6], [8,10], [15,18]], the output would be [[1,6], [8,10], [15,18]]. Since intervals [1,3] and [2,6] overlap, they are merged into [1,6].*\n",
    "\n",
    "*Please start your timer before you attempt this challenge.*"
   ]
  },
  {
   "cell_type": "code",
   "execution_count": 196,
   "id": "0c9174d1",
   "metadata": {
    "scrolled": true
   },
   "outputs": [
    {
     "name": "stdout",
     "output_type": "stream",
     "text": [
      "[[1, 6], [8, 10], [15, 18]]\n"
     ]
    }
   ],
   "source": [
    "intervals = [[1,3], [2,6], [8,10], [15,18]]\n",
    " \n",
    "final = [] \n",
    "for interval in intervals:\n",
    "    if not final or interval[0] == min(interval) and interval[-1] == max(interval) and final[-1][-1] < interval[0]: \n",
    "        final.append(interval)\n",
    "    else:\n",
    "        final[-1][-1] = max(final[-1][-1], interval[-1])\n",
    "        \n",
    "print(final)"
   ]
  },
  {
   "cell_type": "markdown",
   "id": "f9ad44fd",
   "metadata": {},
   "source": [
    "\n",
    "\n",
    "intervals = [[1,3], [2,6], [8,10], [15,18]]\n",
    " \n",
    "final = [] **#CREATED THIS TO BE APPENDED TO THE NEW CORRECT ORDER OF THE INTERVAL**\n",
    "\n",
    "for interval in intervals: **#TO EXECUTE REPEATEDLY** \n",
    "    \n",
    "    if not final                             # not: used to avoid error 'list index out of range' for when looped  .                                              and it is still blank\n",
    "    or interval[0] == min(interval           # Step 1: CHECK THAT THE FIRST NUMBER IS THE SMALLEST\n",
    "    and interval[-1] == max(interval)        # Step 2: CHECK THAT THE SECOND NUMBER IS THE LARGER OF THE TWO\n",
    "    and final[-1][-1] < interval[0]:         # Step 3: CONTINOUSLY LOOP/CHECK THAT THE LAST INTERVAL ENDS BEFORE.                                                  THE NEXT BEGINS\n",
    "        \n",
    "        final.append(interval)               # add all instances that fulfill conditions\n",
    "    \n",
    "    else:\n",
    "        \n",
    "        final[-1][-1] = max(final[-1][-1], interval[-1])    # replace last number with the larger of the second   .                                                               number in the index and the last number\n",
    "        \n",
    "print(final)"
   ]
  },
  {
   "cell_type": "markdown",
   "id": "2bd9636a",
   "metadata": {},
   "source": [
    "**Time (day 1) : 37:11**\n",
    "\n",
    "**Time (day 2) : 51:12**\n",
    "\n",
    "**TOTAL TIME :: 1:22:23**"
   ]
  }
 ],
 "metadata": {
  "kernelspec": {
   "display_name": "Python 3",
   "language": "python",
   "name": "python3"
  },
  "language_info": {
   "codemirror_mode": {
    "name": "ipython",
    "version": 3
   },
   "file_extension": ".py",
   "mimetype": "text/x-python",
   "name": "python",
   "nbconvert_exporter": "python",
   "pygments_lexer": "ipython3",
   "version": "3.8.8"
  }
 },
 "nbformat": 4,
 "nbformat_minor": 5
}
